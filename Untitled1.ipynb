{
 "metadata": {
  "name": "",
  "signature": "sha256:0ebe3041396b680283ae6e3ad5e82fe64c0ed50d1ba21093a338ef54de8f5a6b"
 },
 "nbformat": 3,
 "nbformat_minor": 0,
 "worksheets": [
  {
   "cells": [
    {
     "cell_type": "code",
     "collapsed": false,
     "input": [
      "import numpy as np"
     ],
     "language": "python",
     "metadata": {},
     "outputs": [],
     "prompt_number": 1
    },
    {
     "cell_type": "code",
     "collapsed": false,
     "input": [
      "a=np.arange(10).reshape(2,5)\n",
      "b=np.arange(5)\n"
     ],
     "language": "python",
     "metadata": {},
     "outputs": [],
     "prompt_number": 6
    },
    {
     "cell_type": "code",
     "collapsed": false,
     "input": [
      "print a[1,:]-b\n",
      "ind=np.arange(2)\n",
      "print a[ind,:]-b[None,:]\n"
     ],
     "language": "python",
     "metadata": {},
     "outputs": [
      {
       "output_type": "stream",
       "stream": "stdout",
       "text": [
        "[5 5 5 5 5]\n",
        "[[0 0 0 0 0]\n",
        " [5 5 5 5 5]]\n"
       ]
      }
     ],
     "prompt_number": 15
    },
    {
     "cell_type": "code",
     "collapsed": false,
     "input": [],
     "language": "python",
     "metadata": {},
     "outputs": []
    }
   ],
   "metadata": {}
  }
 ]
}